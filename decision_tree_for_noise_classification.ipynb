{
 "cells": [
  {
   "cell_type": "code",
   "execution_count": 4,
   "metadata": {},
   "outputs": [],
   "source": [
    "import pandas as pd\n",
    "import numpy as np\n",
    "from sklearn.ensemble import RandomForestClassifier\n",
    "from sklearn.model_selection import KFold"
   ]
  },
  {
   "cell_type": "code",
   "execution_count": 5,
   "metadata": {},
   "outputs": [],
   "source": [
    "simulation_data = pd.read_csv(\n",
    "    \"./data_csv_files/ideal_CPMG_data_for_dt.csv\", index_col=0\n",
    ")"
   ]
  },
  {
   "cell_type": "code",
   "execution_count": 6,
   "metadata": {},
   "outputs": [
    {
     "name": "stdout",
     "output_type": "stream",
     "text": [
      "n_samples: 600\n",
      "n_features: 9\n"
     ]
    }
   ],
   "source": [
    "vo_values = simulation_data.drop(columns=[\"stationarity\", \"noise_type\"]).to_numpy()\n",
    "print(f\"n_samples: {vo_values.shape[0]}\")\n",
    "print(f\"n_features: {vo_values.shape[1]}\")\n"
   ]
  },
  {
   "cell_type": "code",
   "execution_count": 7,
   "metadata": {},
   "outputs": [
    {
     "name": "stdout",
     "output_type": "stream",
     "text": [
      "Average test accuracy for stationarity: 0.97\n",
      "Average feature importances for stationarity: [0.22 0.09 0.17 0.08 0.13 0.04 0.05 0.08 0.15]\n",
      "Average test accuracy for noise type: 0.96\n",
      "Average feature importances for noise type: [0.1  0.14 0.08 0.15 0.13 0.08 0.03 0.03 0.28]\n"
     ]
    }
   ],
   "source": [
    "sim_stationary_labels = simulation_data[\"stationarity\"]\n",
    "sim_noise_type_labels = simulation_data[\"noise_type\"]\n",
    "\n",
    "n_splits = 10\n",
    "kf = KFold(n_splits=n_splits, shuffle=True, random_state=42)\n",
    "\n",
    "accuracy_stationary = []\n",
    "accuracy_noise_type = []\n",
    "feature_importances_stationary = []\n",
    "feature_importances_noise_type = []\n",
    "\n",
    "# K-Fold Cross Validation for stationarity\n",
    "for train_index, test_index in kf.split(vo_values):\n",
    "    train_data, test_data = vo_values[train_index], vo_values[test_index]\n",
    "    train_stationary_labels, test_stationary_labels = (\n",
    "        sim_stationary_labels.iloc[train_index],\n",
    "        sim_stationary_labels.iloc[test_index],\n",
    "    )\n",
    "\n",
    "    decision_tree = RandomForestClassifier()\n",
    "    decision_tree.fit(train_data, train_stationary_labels)\n",
    "\n",
    "    accuracy = decision_tree.score(test_data, test_stationary_labels)\n",
    "    accuracy_stationary.append(accuracy)\n",
    "    feature_importances_stationary.append(decision_tree.feature_importances_)\n",
    "\n",
    "# K-Fold Cross Validation for noise type\n",
    "for train_index, test_index in kf.split(vo_values):\n",
    "    train_data, test_data = vo_values[train_index], vo_values[test_index]\n",
    "    train_noise_type_labels, test_noise_type_labels = (\n",
    "        sim_noise_type_labels.iloc[train_index],\n",
    "        sim_noise_type_labels.iloc[test_index],\n",
    "    )\n",
    "\n",
    "    decision_tree = RandomForestClassifier()\n",
    "    decision_tree.fit(train_data, train_noise_type_labels)\n",
    "\n",
    "    accuracy = decision_tree.score(test_data, test_noise_type_labels)\n",
    "    accuracy_noise_type.append(accuracy)\n",
    "    feature_importances_noise_type.append(decision_tree.feature_importances_)\n",
    "\n",
    "# Compute average accuracy\n",
    "avg_accuracy_stationary = np.mean(accuracy_stationary)\n",
    "avg_accuracy_noise_type = np.mean(accuracy_noise_type)\n",
    "\n",
    "# Compute average feature importances\n",
    "avg_feature_importances_stationary = np.mean(feature_importances_stationary, axis=0)\n",
    "avg_feature_importances_noise_type = np.mean(feature_importances_noise_type, axis=0)\n",
    "\n",
    "print(f\"Average test accuracy for stationarity: {avg_accuracy_stationary:.2f}\")\n",
    "print(\n",
    "    f\"Average feature importances for stationarity: {avg_feature_importances_stationary.round(2)}\"\n",
    ")\n",
    "\n",
    "print(f\"Average test accuracy for noise type: {avg_accuracy_noise_type:.2f}\")\n",
    "print(\n",
    "    f\"Average feature importances for noise type: {avg_feature_importances_noise_type.round(2)}\"\n",
    ")"
   ]
  }
 ],
 "metadata": {
  "kernelspec": {
   "display_name": "venv",
   "language": "python",
   "name": "python3"
  },
  "language_info": {
   "codemirror_mode": {
    "name": "ipython",
    "version": 3
   },
   "file_extension": ".py",
   "mimetype": "text/x-python",
   "name": "python",
   "nbconvert_exporter": "python",
   "pygments_lexer": "ipython3",
   "version": "3.12.3"
  }
 },
 "nbformat": 4,
 "nbformat_minor": 2
}
