{
 "cells": [
  {
   "cell_type": "code",
   "execution_count": 33,
   "metadata": {},
   "outputs": [],
   "source": [
    "import torch\n",
    "import numpy as np\n",
    "import matplotlib as mpl\n",
    "import matplotlib.pyplot as plt"
   ]
  },
  {
   "cell_type": "code",
   "execution_count": 34,
   "metadata": {},
   "outputs": [],
   "source": [
    "from data_gen.data_gen_sim_constants import (\n",
    "    TOTAL_TIME,\n",
    "    NUM_PULSES_PER_TRAIN,\n",
    "    TIME_STEP_VALUES,\n",
    "    NUM_TIME_STEPS,\n",
    "    NUM_CONTROL_CHANNELS,\n",
    ")\n",
    "from qubit_sim.control_pulse_funcs import generate_gaussian_pulses"
   ]
  },
  {
   "cell_type": "code",
   "execution_count": 35,
   "metadata": {},
   "outputs": [],
   "source": [
    "mpl.use(\"pdf\")\n",
    "plt.rc(\"font\", family=\"serif\", serif=\"cm10\")\n",
    "plt.rc(\"text\", usetex=True)\n",
    "\n",
    "alpha_value = 0.75"
   ]
  },
  {
   "cell_type": "code",
   "execution_count": 36,
   "metadata": {},
   "outputs": [],
   "source": [
    "def generate_randomised_gaussian_centre_positions(\n",
    "    num_diff_control_pulses: int = 1,\n",
    "    total_time: float = TOTAL_TIME,\n",
    "    num_time_steps: int = NUM_TIME_STEPS,\n",
    "    num_pulses_per_train: int = NUM_PULSES_PER_TRAIN,\n",
    "    num_control_channels: int = NUM_CONTROL_CHANNELS,\n",
    "):\n",
    "    shift_limit = 24 * total_time / num_time_steps\n",
    "    n = torch.arange(1, num_pulses_per_train + 1)\n",
    "    tau_n = (n - 0.5) / num_pulses_per_train * total_time\n",
    "    tau_n_expanded = tau_n[None, :, None]\n",
    "\n",
    "    random_shifts = shift_limit * (\n",
    "        2\n",
    "        * torch.rand(\n",
    "            (num_diff_control_pulses, num_pulses_per_train, num_control_channels)\n",
    "        )\n",
    "        - 1\n",
    "    )\n",
    "\n",
    "    return tau_n_expanded + random_shifts\n"
   ]
  },
  {
   "cell_type": "code",
   "execution_count": 37,
   "metadata": {},
   "outputs": [],
   "source": [
    "scale = 1 / 96\n",
    "std_value = TOTAL_TIME / NUM_PULSES_PER_TRAIN * scale\n",
    "\n",
    "gaussian_centre_positions = (\n",
    "    (torch.arange(1, NUM_PULSES_PER_TRAIN + 1) - 0.5)\n",
    "    / NUM_PULSES_PER_TRAIN\n",
    "    * TOTAL_TIME\n",
    ")\n",
    "\n",
    "gaussian_centre_positions = gaussian_centre_positions[None, :, None]\n",
    "gaussian_amplitudes = torch.full((1, NUM_PULSES_PER_TRAIN, 1), torch.pi)\n",
    "gaussian_std_values = torch.full((1, NUM_PULSES_PER_TRAIN, 1), std_value)\n",
    "\n",
    "gaussian_pulse_parameters = torch.stack(\n",
    "    (gaussian_amplitudes, gaussian_centre_positions, gaussian_std_values), dim=-1\n",
    ")\n",
    "\n",
    "pulse_parameters = gaussian_pulse_parameters.reshape(1, NUM_PULSES_PER_TRAIN, 1 * 3)\n",
    "\n",
    "control_pulse = generate_gaussian_pulses(\n",
    "    number_of_channels=1,\n",
    "    time_range_values=TIME_STEP_VALUES.to(\"cpu\"),\n",
    "    pulse_parameters=pulse_parameters,\n",
    ")[0, :, 0]"
   ]
  },
  {
   "cell_type": "code",
   "execution_count": 38,
   "metadata": {},
   "outputs": [],
   "source": [
    "scale = 1 / 24\n",
    "non_ideal_std_value = TOTAL_TIME / NUM_PULSES_PER_TRAIN * scale\n",
    "\n",
    "non_ideal_gaussian_centre_positions = generate_randomised_gaussian_centre_positions(\n",
    "    total_time=TOTAL_TIME,\n",
    "    num_time_steps=NUM_TIME_STEPS,\n",
    "    num_pulses_per_train=NUM_PULSES_PER_TRAIN,\n",
    "    num_control_channels=1,\n",
    ")\n",
    "\n",
    "gaussian_amplitudes = torch.full((1, NUM_PULSES_PER_TRAIN, 1), torch.pi)\n",
    "\n",
    "small_amplitudes_fluctuations = (\n",
    "    0.20 * torch.pi * (2 * torch.rand((1, NUM_PULSES_PER_TRAIN, 1)) - 1)\n",
    ")\n",
    "\n",
    "non_ideal_gaussian_amplitudes = gaussian_amplitudes + small_amplitudes_fluctuations\n",
    "\n",
    "non_ideal_gaussian_std_values = torch.full(\n",
    "    (1, NUM_PULSES_PER_TRAIN, 1), non_ideal_std_value\n",
    ")\n",
    "\n",
    "non_ideal_gaussian_pulse_parameters = torch.stack(\n",
    "    (\n",
    "        non_ideal_gaussian_amplitudes,\n",
    "        non_ideal_gaussian_centre_positions,\n",
    "        non_ideal_gaussian_std_values,\n",
    "    ),\n",
    "    dim=-1,\n",
    ")\n",
    "\n",
    "non_ideal_pulse_parameters = non_ideal_gaussian_pulse_parameters.reshape(\n",
    "    1, NUM_PULSES_PER_TRAIN, 1 * 3\n",
    ")\n",
    "\n",
    "non_ideal_control_pulse = generate_gaussian_pulses(\n",
    "    number_of_channels=1,\n",
    "    time_range_values=TIME_STEP_VALUES.to(\"cpu\"),\n",
    "    pulse_parameters=non_ideal_pulse_parameters,\n",
    ")[0, :, 0]"
   ]
  },
  {
   "cell_type": "code",
   "execution_count": 39,
   "metadata": {},
   "outputs": [],
   "source": [
    "time_steps = np.linspace(0, NUM_TIME_STEPS, NUM_TIME_STEPS)"
   ]
  },
  {
   "cell_type": "code",
   "execution_count": 40,
   "metadata": {},
   "outputs": [],
   "source": [
    "fig, (ax1, ax2) = plt.subplots(2, 1, figsize=(8, 5))\n",
    "\n",
    "ax1.plot(time_steps, control_pulse, color=\"blue\", label=\"Ideal Control Pulse\")\n",
    "ax1.set_xlim(0, 1024)\n",
    "ax1.set_xticks([0, 256, 512, 768, 1024])\n",
    "ax1.set_xlabel(\"Time Step\")\n",
    "y_ticks = [0, np.pi / 4, np.pi / 2, 3 * np.pi / 4, np.pi]\n",
    "y_tick_labels = [\"0\", r\"$\\pi/4$\", r\"$\\pi/2$\", r\"$3\\pi/4$\", r\"$\\pi$\"]\n",
    "ax1.set_yticks(y_ticks)\n",
    "ax1.set_yticklabels(y_tick_labels)\n",
    "ax1.set_ylabel(\"Control Pulse Value\")\n",
    "ax1.set_title(\"Ideal Control Pulse Over Time (A)\")\n",
    "ax1.grid(True)\n",
    "\n",
    "\n",
    "ax2.plot(\n",
    "    time_steps,\n",
    "    non_ideal_control_pulse,\n",
    "    color=\"red\",\n",
    "    label=\"Non-Ideal Control Pulse\",\n",
    ")\n",
    "\n",
    "ax2.set_xlim(0, 1024)\n",
    "ax2.set_xticks([0, 256, 512, 768, 1024])\n",
    "ax2.set_xlabel(\"Time Step\")\n",
    "ax2.set_yticks(y_ticks)\n",
    "ax2.set_yticklabels(y_tick_labels)\n",
    "ax2.set_ylabel(\"Control Pulse Value\")\n",
    "ax2.set_title(\"Realistic Control Pulse Over Time (B)\")\n",
    "ax2.grid(True)\n",
    "\n",
    "plt.tight_layout()\n",
    "plt.savefig(\"./feature_identification_paper/figures/control_pulses.pdf\")"
   ]
  },
  {
   "cell_type": "code",
   "execution_count": null,
   "metadata": {},
   "outputs": [],
   "source": []
  }
 ],
 "metadata": {
  "kernelspec": {
   "display_name": "venv",
   "language": "python",
   "name": "python3"
  },
  "language_info": {
   "codemirror_mode": {
    "name": "ipython",
    "version": 3
   },
   "file_extension": ".py",
   "mimetype": "text/x-python",
   "name": "python",
   "nbconvert_exporter": "python",
   "pygments_lexer": "ipython3",
   "version": "3.12.3"
  }
 },
 "nbformat": 4,
 "nbformat_minor": 2
}
