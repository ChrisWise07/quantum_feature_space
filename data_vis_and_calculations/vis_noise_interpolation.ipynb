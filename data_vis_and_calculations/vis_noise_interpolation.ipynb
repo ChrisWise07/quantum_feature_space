{
 "cells": [
  {
   "cell_type": "code",
   "execution_count": 1,
   "metadata": {},
   "outputs": [],
   "source": [
    "import pandas as pd\n",
    "from data_vis_utils import plotting_wrapper_func"
   ]
  },
  {
   "cell_type": "code",
   "execution_count": 2,
   "metadata": {},
   "outputs": [],
   "source": [
    "labels = [\n",
    "    r\"$1/f$: 100\\% Coloured (NS): 0\\%\",\n",
    "    r\"$1/f$: 75\\% Coloured (NS): 25\\%\",\n",
    "    r\"$1/f$: 50\\% Coloured (NS): 50\\%\",\n",
    "    r\"$1/f$: 25\\% Coloured (NS): 75\\%\",\n",
    "    r\"$1/f$: 0\\% Coloured (NS): 100\\%\",\n",
    "]"
   ]
  },
  {
   "cell_type": "code",
   "execution_count": 3,
   "metadata": {},
   "outputs": [],
   "source": [
    "data_frame = pd.read_csv(\n",
    "    \"../data_csv_files/data_for_interpolation.csv\", index_col=0\n",
    ").to_numpy()"
   ]
  },
  {
   "cell_type": "code",
   "execution_count": 4,
   "metadata": {},
   "outputs": [],
   "source": [
    "plotting_wrapper_func(\n",
    "    title=r\"$Q_O$ Space With Interpolated Noise Profiles (B)\",\n",
    "    data_frame=data_frame,\n",
    "    labels=labels,\n",
    "    label_title=\"Percentage of Noise Profiles\",\n",
    "    file_name=\"vis_interpolated_noise_profiles\",\n",
    "    use_pdf=True,\n",
    ")"
   ]
  }
 ],
 "metadata": {
  "kernelspec": {
   "display_name": "venv",
   "language": "python",
   "name": "python3"
  },
  "language_info": {
   "codemirror_mode": {
    "name": "ipython",
    "version": 3
   },
   "file_extension": ".py",
   "mimetype": "text/x-python",
   "name": "python",
   "nbconvert_exporter": "python",
   "pygments_lexer": "ipython3",
   "version": "3.12.3"
  }
 },
 "nbformat": 4,
 "nbformat_minor": 2
}
