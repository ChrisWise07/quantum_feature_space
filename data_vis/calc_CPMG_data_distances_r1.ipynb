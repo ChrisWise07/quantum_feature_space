{
 "cells": [
  {
   "cell_type": "code",
   "execution_count": 1,
   "metadata": {},
   "outputs": [],
   "source": [
    "import numpy as np\n",
    "import pandas as pd"
   ]
  },
  {
   "cell_type": "code",
   "execution_count": 2,
   "metadata": {},
   "outputs": [],
   "source": [
    "observables = [\"x\", \"y\", \"z\"]\n",
    "\n",
    "noise_profiles_names = [\n",
    "    r\"$1/f$\",\n",
    "    r\"$1/f$ (NS)\",\n",
    "    r\"$1/f$ + bump\",\n",
    "    r\"$1/f$ + bump (NS)\",\n",
    "    r\"Coloured\",\n",
    "    r\"Coloured (NS)\",\n",
    "]"
   ]
  },
  {
   "cell_type": "code",
   "execution_count": 3,
   "metadata": {},
   "outputs": [
    {
     "name": "stdout",
     "output_type": "stream",
     "text": [
      "(50, 9)\n"
     ]
    }
   ],
   "source": [
    "data_frame = pd.read_csv(\n",
    "    \"../data_csv_files/ideal_CPMG_data.csv\", index_col=0\n",
    ").to_numpy()\n",
    "\n",
    "real_data = pd.read_csv(\"../data_csv_files/real_CPMG_data.csv\", index_col=0).to_numpy()\n",
    "print(real_data.shape)"
   ]
  },
  {
   "cell_type": "code",
   "execution_count": 4,
   "metadata": {},
   "outputs": [
    {
     "name": "stdout",
     "output_type": "stream",
     "text": [
      "Noise profile: $1/f$\n",
      "Distance for Vx: 0.398\n",
      "Distance for Vy: 0.303\n",
      "Distance for Vz: 0.290\n",
      "\n",
      "Noise profile: $1/f$ (NS)\n",
      "Distance for Vx: 0.368\n",
      "Distance for Vy: 0.307\n",
      "Distance for Vz: 0.297\n",
      "\n",
      "Noise profile: $1/f$ + bump\n",
      "Distance for Vx: 0.379\n",
      "Distance for Vy: 0.246\n",
      "Distance for Vz: 0.304\n",
      "\n",
      "Noise profile: $1/f$ + bump (NS)\n",
      "Distance for Vx: 0.381\n",
      "Distance for Vy: 0.269\n",
      "Distance for Vz: 0.293\n",
      "\n",
      "Noise profile: Coloured\n",
      "Distance for Vx: 0.828\n",
      "Distance for Vy: 0.812\n",
      "Distance for Vz: 0.687\n",
      "\n",
      "Noise profile: Coloured (NS)\n",
      "Distance for Vx: 0.924\n",
      "Distance for Vy: 0.857\n",
      "Distance for Vz: 0.621\n",
      "\n",
      "Closest for each V_O:\n",
      "Closest Vx: 0.368 (Noise profile: $1/f$ (NS))\n",
      "Closest Vy: 0.246 (Noise profile: $1/f$ + bump)\n",
      "Closest Vz: 0.290 (Noise profile: $1/f$)\n",
      "\n",
      "Total distances for each noise profile (sum of Vx, Vy, and Vz):\n",
      "$1/f$: 0.991\n",
      "$1/f$ (NS): 0.973\n",
      "$1/f$ + bump: 0.929\n",
      "$1/f$ + bump (NS): 0.943\n",
      "Coloured: 2.326\n",
      "Coloured (NS): 2.402\n"
     ]
    }
   ],
   "source": [
    "# Lists to store distances (if needed for other purposes)\n",
    "distances_vx = []\n",
    "distances_vy = []\n",
    "distances_vz = []\n",
    "\n",
    "# Extract the real data for each velocity component\n",
    "real_data_vx = real_data[:, :3]\n",
    "real_data_vy = real_data[:, 3:6]\n",
    "real_data_vz = real_data[:, 6:]\n",
    "\n",
    "# Dictionary to store the total distance for each noise profile\n",
    "total_distances = {}\n",
    "\n",
    "# Dictionaries to store the closest (minimum) distance for each velocity component\n",
    "closest = {\"Vx\": (np.inf, None), \"Vy\": (np.inf, None), \"Vz\": (np.inf, None)}\n",
    "\n",
    "# Loop over each noise profile and its name\n",
    "for noise_profile_ideal_data, name in zip(data_frame, noise_profiles_names):\n",
    "    # Split the noise profile data into components\n",
    "    noise_vx = noise_profile_ideal_data[:3]\n",
    "    noise_vy = noise_profile_ideal_data[3:6]\n",
    "    noise_vz = noise_profile_ideal_data[6:]\n",
    "\n",
    "    # Calculate mean distances (using the norm across the appropriate axis)\n",
    "    vx_distance = np.mean(np.linalg.norm(real_data_vx - noise_vx, axis=1))\n",
    "    vy_distance = np.mean(np.linalg.norm(real_data_vy - noise_vy, axis=1))\n",
    "    vz_distance = np.mean(np.linalg.norm(real_data_vz - noise_vz, axis=1))\n",
    "\n",
    "    # Append distances (if needed)\n",
    "    distances_vx.append((vx_distance, name))\n",
    "    distances_vy.append((vy_distance, name))\n",
    "    distances_vz.append((vz_distance, name))\n",
    "\n",
    "    # Compute the total distance for this noise profile\n",
    "    total_distance = vx_distance + vy_distance + vz_distance\n",
    "    total_distances[name] = total_distance\n",
    "\n",
    "    # Update the closest profile for each velocity component if necessary\n",
    "    if vx_distance < closest[\"Vx\"][0]:\n",
    "        closest[\"Vx\"] = (vx_distance, name)\n",
    "    if vy_distance < closest[\"Vy\"][0]:\n",
    "        closest[\"Vy\"] = (vy_distance, name)\n",
    "    if vz_distance < closest[\"Vz\"][0]:\n",
    "        closest[\"Vz\"] = (vz_distance, name)\n",
    "\n",
    "    # Print the distances for this noise profile\n",
    "    print(f\"Noise profile: {name}\")\n",
    "    print(f\"Distance for Vx: {vx_distance:.3f}\")\n",
    "    print(f\"Distance for Vy: {vy_distance:.3f}\")\n",
    "    print(f\"Distance for Vz: {vz_distance:.3f}\\n\")\n",
    "\n",
    "# Print the closest noise profile for each velocity component\n",
    "print(\"Closest for each V_O:\")\n",
    "for v in [\"Vx\", \"Vy\", \"Vz\"]:\n",
    "    distance, profile = closest[v]\n",
    "    print(f\"Closest {v}: {distance:.3f} (Noise profile: {profile})\")\n",
    "\n",
    "# Print the total distance for each noise profile\n",
    "print(\"\\nTotal distances for each noise profile (sum of Vx, Vy, and Vz):\")\n",
    "for name, total in total_distances.items():\n",
    "    print(f\"{name}: {total:.3f}\")"
   ]
  }
 ],
 "metadata": {
  "kernelspec": {
   "display_name": "venv",
   "language": "python",
   "name": "python3"
  },
  "language_info": {
   "codemirror_mode": {
    "name": "ipython",
    "version": 3
   },
   "file_extension": ".py",
   "mimetype": "text/x-python",
   "name": "python",
   "nbconvert_exporter": "python",
   "pygments_lexer": "ipython3",
   "version": "3.12.3"
  }
 },
 "nbformat": 4,
 "nbformat_minor": 2
}
