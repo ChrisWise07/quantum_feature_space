{
 "cells": [
  {
   "cell_type": "code",
   "execution_count": 3,
   "metadata": {},
   "outputs": [],
   "source": [
    "import pandas as pd\n",
    "from data_vis_utils import plotting_wrapper_func"
   ]
  },
  {
   "cell_type": "code",
   "execution_count": 4,
   "metadata": {},
   "outputs": [],
   "source": [
    "pulse_width_scales = [1 / 3, 1 / 6, 1 / 12, 1 / 24, 1 / 48]"
   ]
  },
  {
   "cell_type": "code",
   "execution_count": 5,
   "metadata": {},
   "outputs": [],
   "source": [
    "data_frame = pd.read_csv(\n",
    "    \"../data_csv_files/data_for_widening_pulses.csv\", index_col=0\n",
    ").to_numpy()"
   ]
  },
  {
   "cell_type": "code",
   "execution_count": 6,
   "metadata": {},
   "outputs": [],
   "source": [
    "plotting_wrapper_func(\n",
    "    title=r\"$Q_O$ Space With Widening Gaussian Pulse Widths (A)\",\n",
    "    data_frame=data_frame,\n",
    "    labels=[\"1/3\", \"1/6\", \"1/12\", \"1/24\", \"1/48\"],\n",
    "    label_title=\"Pulse Width Scale\",\n",
    "    file_name=\"vis_widening_pulses\",\n",
    "    use_pdf=True,\n",
    ")"
   ]
  }
 ],
 "metadata": {
  "kernelspec": {
   "display_name": "venv",
   "language": "python",
   "name": "python3"
  },
  "language_info": {
   "codemirror_mode": {
    "name": "ipython",
    "version": 3
   },
   "file_extension": ".py",
   "mimetype": "text/x-python",
   "name": "python",
   "nbconvert_exporter": "python",
   "pygments_lexer": "ipython3",
   "version": "3.12.3"
  }
 },
 "nbformat": 4,
 "nbformat_minor": 2
}
