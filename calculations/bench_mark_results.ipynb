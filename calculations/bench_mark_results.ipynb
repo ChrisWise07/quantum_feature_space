{
 "cells": [
  {
   "cell_type": "code",
   "execution_count": 15,
   "id": "32cc5a1b",
   "metadata": {},
   "outputs": [
    {
     "name": "stdout",
     "output_type": "stream",
     "text": [
      "Time for 2000 iterations: 10.32 minutes\n",
      "Time in two weeks: 4320.00 minutes\n"
     ]
    }
   ],
   "source": [
    "time = 154.77\n",
    "time_for_2000 = time * 4\n",
    "print(f\"Time for 2000 iterations: {time_for_2000 / 60:.2f} minutes\")\n",
    "time_in_two_weeks_seconds = 3 * 24 * 60 * 60\n",
    "time_in_two_weeks = time_in_two_weeks_seconds / 60\n",
    "print(f\"Time in two weeks: {time_in_two_weeks:.2f} minutes\")"
   ]
  },
  {
   "cell_type": "code",
   "execution_count": 16,
   "id": "633b68a3",
   "metadata": {},
   "outputs": [
    {
     "name": "stdout",
     "output_type": "stream",
     "text": [
      "Speed up: 418.69x\n"
     ]
    }
   ],
   "source": [
    "speed_up = time_in_two_weeks_seconds / time_for_2000\n",
    "print(f\"Speed up: {speed_up:.2f}x\")"
   ]
  }
 ],
 "metadata": {
  "kernelspec": {
   "display_name": "venv",
   "language": "python",
   "name": "python3"
  },
  "language_info": {
   "codemirror_mode": {
    "name": "ipython",
    "version": 3
   },
   "file_extension": ".py",
   "mimetype": "text/x-python",
   "name": "python",
   "nbconvert_exporter": "python",
   "pygments_lexer": "ipython3",
   "version": "3.12.3"
  }
 },
 "nbformat": 4,
 "nbformat_minor": 5
}
