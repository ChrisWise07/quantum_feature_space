{
 "cells": [
  {
   "cell_type": "code",
   "execution_count": 1,
   "metadata": {},
   "outputs": [],
   "source": [
    "import sympy as sp"
   ]
  },
  {
   "cell_type": "code",
   "execution_count": 3,
   "metadata": {},
   "outputs": [
    {
     "data": {
      "text/latex": [
       "$\\displaystyle \\left[\\begin{matrix}e^{i \\left(\\Delta + \\psi\\right)} \\cos{\\left(\\theta \\right)} & e^{i \\left(- \\Delta + \\psi\\right)} \\sin{\\left(\\theta \\right)}\\\\- e^{i \\left(\\Delta - \\psi\\right)} \\sin{\\left(\\theta \\right)} & e^{- i \\left(\\Delta + \\psi\\right)} \\cos{\\left(\\theta \\right)}\\end{matrix}\\right]$"
      ],
      "text/plain": [
       "Matrix([\n",
       "[ exp(I*(Delta + psi))*cos(theta), exp(I*(-Delta + psi))*sin(theta)],\n",
       "[-exp(I*(Delta - psi))*sin(theta), exp(-I*(Delta + psi))*cos(theta)]])"
      ]
     },
     "metadata": {},
     "output_type": "display_data"
    }
   ],
   "source": [
    "psi, theta, delta, mu = sp.symbols(\"psi theta Delta mu\", real=True)\n",
    "\n",
    "q_matrix = (\n",
    "    sp.Matrix([[sp.exp(sp.I * psi), 0], [0, sp.exp(-sp.I * psi)]])\n",
    "    * sp.Matrix(\n",
    "        [\n",
    "            [sp.cos(theta), sp.sin(theta)],\n",
    "            [-sp.sin(theta), sp.cos(theta)],\n",
    "        ]\n",
    "    )\n",
    "    * sp.Matrix([[sp.exp(sp.I * delta), 0], [0, sp.exp(-sp.I * delta)]])\n",
    ")\n",
    "display(sp.simplify(q_matrix))"
   ]
  },
  {
   "cell_type": "code",
   "execution_count": 4,
   "metadata": {},
   "outputs": [
    {
     "data": {
      "text/latex": [
       "$\\displaystyle \\left[\\begin{matrix}e^{- i \\left(\\Delta + \\psi\\right)} \\cos{\\left(\\theta \\right)} & - e^{- i \\left(\\Delta - \\psi\\right)} \\sin{\\left(\\theta \\right)}\\\\e^{i \\left(\\Delta - \\psi\\right)} \\sin{\\left(\\theta \\right)} & e^{i \\left(\\Delta + \\psi\\right)} \\cos{\\left(\\theta \\right)}\\end{matrix}\\right]$"
      ],
      "text/plain": [
       "Matrix([\n",
       "[exp(-I*(Delta + psi))*cos(theta), -exp(-I*(Delta - psi))*sin(theta)],\n",
       "[ exp(I*(Delta - psi))*sin(theta),   exp(I*(Delta + psi))*cos(theta)]])"
      ]
     },
     "metadata": {},
     "output_type": "display_data"
    }
   ],
   "source": [
    "q_matrix_dag = q_matrix.T.conjugate()\n",
    "display(sp.simplify(q_matrix_dag))"
   ]
  },
  {
   "cell_type": "code",
   "execution_count": 5,
   "metadata": {},
   "outputs": [
    {
     "data": {
      "text/latex": [
       "$\\displaystyle \\left[\\begin{matrix}\\mu & 0\\\\0 & - \\mu\\end{matrix}\\right]$"
      ],
      "text/plain": [
       "Matrix([\n",
       "[mu,   0],\n",
       "[ 0, -mu]])"
      ]
     },
     "metadata": {},
     "output_type": "display_data"
    }
   ],
   "source": [
    "d_matrix = sp.Matrix([[mu, 0], [0, -mu]])\n",
    "display(d_matrix)"
   ]
  },
  {
   "cell_type": "code",
   "execution_count": 6,
   "metadata": {},
   "outputs": [
    {
     "data": {
      "text/latex": [
       "$\\displaystyle \\left[\\begin{matrix}\\mu \\cos{\\left(2 \\theta \\right)} & - \\mu e^{2 i \\psi} \\sin{\\left(2 \\theta \\right)}\\\\- \\mu e^{- 2 i \\psi} \\sin{\\left(2 \\theta \\right)} & - \\mu \\cos{\\left(2 \\theta \\right)}\\end{matrix}\\right]$"
      ],
      "text/plain": [
       "Matrix([\n",
       "[               mu*cos(2*theta), -mu*exp(2*I*psi)*sin(2*theta)],\n",
       "[-mu*exp(-2*I*psi)*sin(2*theta),              -mu*cos(2*theta)]])"
      ]
     },
     "metadata": {},
     "output_type": "display_data"
    }
   ],
   "source": [
    "q_d_q_dag = q_matrix * d_matrix * q_matrix_dag\n",
    "display(sp.simplify(q_d_q_dag))"
   ]
  }
 ],
 "metadata": {
  "kernelspec": {
   "display_name": "venv",
   "language": "python",
   "name": "python3"
  },
  "language_info": {
   "codemirror_mode": {
    "name": "ipython",
    "version": 3
   },
   "file_extension": ".py",
   "mimetype": "text/x-python",
   "name": "python",
   "nbconvert_exporter": "python",
   "pygments_lexer": "ipython3",
   "version": "3.12.3"
  }
 },
 "nbformat": 4,
 "nbformat_minor": 2
}
