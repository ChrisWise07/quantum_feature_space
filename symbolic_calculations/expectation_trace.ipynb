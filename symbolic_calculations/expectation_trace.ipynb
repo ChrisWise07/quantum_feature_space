{
 "cells": [
  {
   "cell_type": "code",
   "execution_count": 1,
   "metadata": {},
   "outputs": [],
   "source": [
    "import sympy as sp"
   ]
  },
  {
   "cell_type": "code",
   "execution_count": 3,
   "metadata": {},
   "outputs": [
    {
     "data": {
      "text/latex": [
       "$\\displaystyle \\left[\\begin{matrix}a \\gamma_{O} + \\left(\\alpha_{O} - i \\beta_{O}\\right) \\left(b + i c\\right) & \\gamma_{O} \\left(b - i c\\right) - \\left(a - 1\\right) \\left(\\alpha_{O} - i \\beta_{O}\\right)\\\\a \\left(\\alpha_{O} + i \\beta_{O}\\right) - \\gamma_{O} \\left(b + i c\\right) & \\gamma_{O} \\left(a - 1\\right) + \\left(\\alpha_{O} + i \\beta_{O}\\right) \\left(b - i c\\right)\\end{matrix}\\right]$"
      ],
      "text/plain": [
       "Matrix([\n",
       "[a*gamma_O + (alpha_O - I*beta_O)*(b + I*c), gamma_O*(b - I*c) - (a - 1)*(alpha_O - I*beta_O)],\n",
       "[a*(alpha_O + I*beta_O) - gamma_O*(b + I*c), gamma_O*(a - 1) + (alpha_O + I*beta_O)*(b - I*c)]])"
      ]
     },
     "metadata": {},
     "output_type": "display_data"
    },
    {
     "data": {
      "text/latex": [
       "$\\displaystyle a \\gamma_{O} + \\gamma_{O} \\left(a - 1\\right) + \\left(\\alpha_{O} - i \\beta_{O}\\right) \\left(b + i c\\right) + \\left(\\alpha_{O} + i \\beta_{O}\\right) \\left(b - i c\\right)$"
      ],
      "text/plain": [
       "a*gamma_O + gamma_O*(a - 1) + (alpha_O - I*beta_O)*(b + I*c) + (alpha_O + I*beta_O)*(b - I*c)"
      ]
     },
     "metadata": {},
     "output_type": "display_data"
    },
    {
     "data": {
      "text/latex": [
       "$\\displaystyle 2 a \\gamma_{O} + 2 \\alpha_{O} b + 2 \\beta_{O} c - \\gamma_{O}$"
      ],
      "text/plain": [
       "2*a*gamma_O + 2*alpha_O*b + 2*beta_O*c - gamma_O"
      ]
     },
     "metadata": {},
     "output_type": "display_data"
    },
    {
     "name": "stdout",
     "output_type": "stream",
     "text": [
      "2 a \\gamma_{O} + 2 \\alpha_{O} b + 2 \\beta_{O} c - \\gamma_{O}\n"
     ]
    }
   ],
   "source": [
    "alpha_O, beta_O, gamma_O = sp.symbols(\"alpha_O beta_O gamma_O\", real=True)\n",
    "a, b, c = sp.symbols(\"a b c\", real=True)\n",
    "i = sp.I\n",
    "\n",
    "A = sp.Matrix([[gamma_O, alpha_O - beta_O * i], [alpha_O + beta_O * i, -gamma_O]])\n",
    "B = sp.Matrix([[a, b - c * i], [b + c * i, 1 - a]])\n",
    "\n",
    "result = A * B\n",
    "\n",
    "display(sp.simplify(result))\n",
    "display(sp.trace(sp.simplify(result)))\n",
    "display(sp.simplify(sp.trace(sp.simplify(result))))\n",
    "sp.print_latex(sp.simplify(sp.trace(sp.simplify(result))))"
   ]
  }
 ],
 "metadata": {
  "kernelspec": {
   "display_name": "venv",
   "language": "python",
   "name": "python3"
  },
  "language_info": {
   "codemirror_mode": {
    "name": "ipython",
    "version": 3
   },
   "file_extension": ".py",
   "mimetype": "text/x-python",
   "name": "python",
   "nbconvert_exporter": "python",
   "pygments_lexer": "ipython3",
   "version": "3.12.3"
  }
 },
 "nbformat": 4,
 "nbformat_minor": 2
}
